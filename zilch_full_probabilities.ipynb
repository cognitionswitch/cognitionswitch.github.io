{
 "cells": [
  {
   "cell_type": "markdown",
   "metadata": {},
   "source": [
    "Definitions:\n",
    "1. $S_1$ is the set of outcomes for a roll of a single die: $S_1 = \\lbrace x \\vert x \\in \\Bbb N, x \\le 6 \\rbrace = \\lbrace 1, 2, 3, 4, 5, 6 \\rbrace$. More generally, $S_n$ is the set of outcomes for a roll of $n$ dice: $S_n = \\lbrace (x_1, \\dots, x_n) \\vert x \\in \\Bbb N, x \\le 6 \\rbrace$, where $n \\in \\lbrace 1, 2, 3, 4, 5, 6 \\rbrace$.\n",
    "2. $A \\times B$ represents the Cartesian product of the sets $A$ and $B$. For example, $S_2 = \\prod_1^2 S_1 = S_1 \\times S_1$ represents a set of thirty six tuples reflecting all possible outcomes for a roll of two dice: $S_2 = \\lbrace (1, 1), (1, 2), \\cdots, (6, 5), (6, 6)\\rbrace$ and $\\vert S_2 \\vert = 36$. \n",
    "3. Define $R_n$ as the set of outcomes rolling $n$ dice that retains a player's turn; ie., a non-zilch outcome, or an outcome that results in accrued points. Thus, $Z_n = S_n \\setminus R_n$ represents the set of outcomes rolling $n$ dice resulting in Zilch. Then the probability of a retaining roll with $n$ dice is $P(R_n)$, and the probability of a Zilch roll with $n$ dice is always $P(Z_n) = 1-P(R_n)$. \n",
    "4. Define $C_n$ as the set of outcomes rolling $n$ dice that clears the dice over a _single_ roll; ie., outcomes that retain a player's turn _and_ allow a player to collect all held dice with the option of a new roll.\n",
    "5. Define $C_n^{*}$ as the set of outcomes rolling $n$ dice that clears the dice over a sequence of length $r$ $(1 \\le r \\le i)$ dice rolls; ie, outcomes for a sequence of rolls that retain a player's turn _and_ allow a player to collect all held dice with the option of a new roll. \n",
    "6. Finally, let $\\bar A$ denote the compliment of $A$, and let $\\vert A \\vert$ denote the cardinality of $A$.\n",
    "\n",
    "From the above definitions, it is clear that $C_n, R_n, S_n$ represent sets of tuples with each tuple of length $n$, and that $C_n \\subseteq R_n \\subset S_n$. Moreover, $C_n \\subseteq C_n^{*}$, and $C_n^{*}$ represents a set of tuples with varying length (except in the special case of $C_1^{*}$, see below). \n",
    "\n",
    "With the definitions above, we represent the sets and probabilities of _retaining_ outcomes, _clearing_ outcomes, and _special roll_ outcomes for each roll of $n$ dice."
   ]
  },
  {
   "cell_type": "markdown",
   "metadata": {},
   "source": [
    "---"
   ]
  },
  {
   "cell_type": "markdown",
   "metadata": {},
   "source": [
    "## 1 Die \n",
    "#### Sets\n",
    "$C_1 = R_1 = C_1^{*} = \\lbrace 1, 5 \\rbrace$\n",
    "\n",
    "#### Probabilities\n",
    "\n",
    "$\\begin{eqnarray}\n",
    "P(C_1) = P(R_1) &=& P(C_1^{*}) \\\\\n",
    "&=& \\frac{\\vert C_1 \\vert}{\\vert S_1 \\vert} \\\\\n",
    "&=& \\frac{2}{6}\n",
    "\\end{eqnarray}$"
   ]
  },
  {
   "cell_type": "markdown",
   "metadata": {},
   "source": [
    "---"
   ]
  },
  {
   "cell_type": "markdown",
   "metadata": {},
   "source": [
    "### 2 Dice \n",
    "#### Sets\n",
    "$C_2 = C_1 \\times C_1$\n",
    "\n",
    "$R_2 = S_2 \\setminus (\\bar{C_1} \\times \\bar{C_1})$\n",
    "\n",
    "$C_2^{*} = C_2 \\cup ((R_2 \\setminus C_2) \\times C_1)$"
   ]
  },
  {
   "cell_type": "markdown",
   "metadata": {},
   "source": [
    "#### Probabilities\n",
    "\n",
    "$\\begin{eqnarray}\n",
    "P(C_2) &=& \\frac{\\vert C_2 \\vert}{\\vert S_2 \\vert} \\\\\n",
    " &=& \\frac{4}{6^2}\\\\\n",
    " {}\n",
    " P(R_2) &=& \\frac{\\vert S_2 \\vert - \\vert \\bar{C_1} \\times \\bar{C_1} \\vert}{\\vert S_2 \\vert} \\\\\n",
    "  &=& \\frac{36}{6^2} - \\frac{4^2}{6^2} \\\\\n",
    " &=& \\frac{20}{6^2} \\\\\n",
    " {}\n",
    " P(C_2^{*}) &=& \\frac{\\vert C_2 \\vert}{\\vert S_2 \\vert} + \\frac{\\vert R_2 \\setminus C_2 \\vert}{\\vert S_2 \\vert} \\cdot P(C_1) \\\\\n",
    " &=& \\frac{4 \\vphantom{2 \\choose 1}}{6^2} + \\frac{2 \\cdot 4 {2 \\choose 1}}{6^2} \\frac{2 \\vphantom{2 \\choose 1}}{6 \\vphantom{6^3}} \\\\\n",
    " &=& \\frac{56}{6^3}\\\\\n",
    "\\end{eqnarray}$\n",
    "\n",
    "Note that since $A_i$, $B_{j \\ne i}$ represent rolls of different numbers of dice $(i, j)$, $P(A_i \\cup B_{j \\ne i}) = P(A_i)P(B_{j \\ne i})$; ie., these must be independent events."
   ]
  },
  {
   "cell_type": "code",
   "execution_count": 1,
   "metadata": {},
   "outputs": [
    {
     "data": {
      "text/plain": [
       "(0.1111111111111111, 0.5555555555555556, 0.25925925925925924)"
      ]
     },
     "execution_count": 1,
     "metadata": {},
     "output_type": "execute_result"
    }
   ],
   "source": [
    "(4/6**2, 20/6**2, 56/6**3)"
   ]
  },
  {
   "cell_type": "markdown",
   "metadata": {},
   "source": [
    "---"
   ]
  },
  {
   "cell_type": "markdown",
   "metadata": {},
   "source": [
    "### 3 Dice\n",
    "With three or more dice, outcomes include some special rolls. We use $K_n$ to denote the outcome of $n$ of a kind rolling $n$ dice.   \n",
    "#### Sets\n",
    "\n",
    "$K_3 = \\lbrace (x_1, x_2, x_3) \\vert (x_1, x_2, x_3) \\in S_3, x_1 = x_2 = x_3 \\rbrace$.\n",
    "\n",
    "$C_3 = K_3 \\cup \\lbrace (x_1, x_2, x_3) \\vert  x_1, x_2, x_3 \\in C_1 \\rbrace$.\n",
    "\n",
    "$R_3 = S_3 \\setminus \\left(\\left \\lbrace \\left(x_1, x_2, x_3 \\right) \\vert  x_1, x_2, x_3 \\in \\bar{C_1}  \\right \\rbrace  \\setminus K_3 \\right)$.\n",
    "\n",
    "$\\begin{eqnarray}\n",
    "C_3^{*} = C_3 &\\large\\cup& {\\underset{\\small{\\lbrace (i,j,k) \\vert i \\ne j \\ne k, \\; i,j,k \\in {\\lbrace 1,2,3 \\rbrace} \\rbrace}}{\\Large\\mathrm \\cup} {\\left \\lbrace (x_1, x_2, x_3) \\vert x_i, x_j \\in C_1, x_k \\in \\bar{C_1} \\right \\rbrace}} \\times C_1 \\\\\n",
    "&\\large\\cup&  {\\underset{\\small{\\lbrace (i,j,k) \\vert i \\ne j \\ne k, \\; i,j,k \\in {\\lbrace 1,2,3 \\rbrace} \\rbrace}}{\\Large\\mathrm \\cup} {\\left \\lbrace (x_1, x_2, x_3) \\vert x_i, x_j \\in \\bar{C_1}, x_k \\in C_1 \\right \\rbrace}} \\times C_2^{*} \n",
    "\\end{eqnarray}$"
   ]
  },
  {
   "cell_type": "markdown",
   "metadata": {},
   "source": [
    "#### Probabilities\n",
    "\n",
    "$\\begin{eqnarray}\n",
    "P(K_3) &=& \\frac{\\vert K_3 \\vert}{\\vert S_3 \\vert} \\\\\n",
    " &=& \\frac{6}{6^3} \n",
    "\\end{eqnarray}$\n",
    "\n",
    "$\\begin{eqnarray}\n",
    "P(C_3) &=& \\frac{ \\vert K_3 \\vert}{\\vert S_3 \\vert} + \\frac{\\vert \\lbrace (x_1, x_2, x_3) \\vert  x_1, x_2, x_3 \\in C_1 \\rbrace \\setminus \\lbrace (1,1,1), (5,5,5) \\rbrace \\vert}{\\vert S_3 \\vert} \\\\\n",
    " &=& \\frac{6}{6^3} + \\frac{2^3 - 2}{6^3} \\\\\n",
    " &=& \\frac{12}{6^3}\n",
    "\\end{eqnarray}$\n",
    "\n",
    "$\\begin{eqnarray}\n",
    "P(R_3) &=& \\frac{\\left\\vert S_3 \\vphantom{\\bar{C_1}} \\right\\vert}{\\vert S_3 \\vert} - \\frac{\\left \\vert \\left\\lbrace (x_1, x_2, x_3) \\vert  x_1, x_2, x_3 \\in \\bar{C_1} \\right \\rbrace \\setminus K_3 \\right \\vert}{\\vert S_3 \\vert}\\\\\n",
    " &=& \\frac{216}{6^3} - \\frac{4^3-4}{6^3} \\\\\n",
    " &=& \\frac{156}{6^3}\n",
    "\\end{eqnarray}$\n",
    "\n",
    "$\\begin{eqnarray}\n",
    "P(C_3^{*}) &=& \\frac{\\left \\vert C_3 \\vphantom{\\underset{\\small{\\lbrace i \\rbrace}}{\\Large\\mathrm \\cup}} \\right \\vert}{\\vert S_3 \\vert} + \\frac{\\left \\vert {\\underset{\\small{\\lbrace (i,j,k) \\vert i \\ne j \\ne k, \\; i,j,k \\in {\\lbrace 1,2,3 \\rbrace} \\rbrace}}{\\Large\\mathrm \\cup} {\\left \\lbrace (x_1, x_2, x_3) \\vert x_i, x_j \\in C_1, x_k \\in \\bar{C_1} \\right \\rbrace}} \\right \\vert}{\\vert S_3 \\vert} \\cdot P(C_1) \\\\\n",
    " & & \\; + \\; \\frac{\\left \\vert {\\underset{\\small{\\lbrace (i,j,k) \\vert i \\ne j \\ne k, \\; i,j,k \\in {\\lbrace 1,2,3 \\rbrace} \\rbrace}}{\\Large\\mathrm \\cup} {\\left \\lbrace (x_1, x_2, x_3) \\vert x_i, x_j \\in \\bar{C_1}, x_k \\in C_1 \\right \\rbrace}} \\right \\vert}{\\vert S_3 \\vert} \\cdot P(C_2^{*}) \\\\\n",
    " &=& \\frac{12 \\vphantom{3 \\choose 1}}{6^3} + \\frac{2^2 \\cdot 4 {3 \\choose 1}}{6^3} \\frac{2}{6} + \\frac{2 \\cdot 4^2 {3 \\choose 2}}{6^3} \\frac{56 \\vphantom{3 \\choose 1}}{6^3} \\\\\n",
    " &=& \\frac{1904}{6^5}\n",
    "\\end{eqnarray}$"
   ]
  },
  {
   "cell_type": "code",
   "execution_count": 34,
   "metadata": {},
   "outputs": [
    {
     "data": {
      "text/plain": [
       "(0.05555555555555555, 0.7222222222222222, 0.2448559670781893)"
      ]
     },
     "execution_count": 34,
     "metadata": {},
     "output_type": "execute_result"
    }
   ],
   "source": [
    "(12/6**3, 156/6**3, 1904/6**5)"
   ]
  },
  {
   "cell_type": "markdown",
   "metadata": {},
   "source": [
    "---"
   ]
  },
  {
   "cell_type": "markdown",
   "metadata": {},
   "source": [
    "### 4 Dice\n",
    "Special rolls: let $K_{m,n}$ denote the set of outcomes representing $m$ of a kind rolling $n$ dice, along with the provision that $K_n \\subset K_{m,n}$.\n",
    "\n",
    "#### Sets\n",
    "\n",
    "$K_4 = \\lbrace (x_1, x_2, x_3, x_4) \\vert x_1 = x_2 = x_3 = x_4, (x_1, x_2, x_3, x_4) \\in S_4 \\rbrace$.\n",
    "\n",
    "$K_{3,4} = \\underset{\\small{\\lbrace (i,j,k,l) \\vert i \\ne j \\ne k \\ne l, \\; i,j,k,l \\in {\\lbrace 1,2,3,4 \\rbrace} \\rbrace}}{\\Large\\mathrm \\cup} {\\left \\lbrace (x_1, x_2, x_3, x_4) \\vert x_i=x_j=x_k, (x_i, x_j, x_k, x_l) \\in S_4 \\right \\rbrace}$.\n",
    "\n",
    "$\\begin{eqnarray}\n",
    "C_4 = K_4 &\\large\\cup& \\underset{\\small{\\lbrace (i,j,k,l) \\vert i \\ne j \\ne k \\ne l, \\; i,j,k,l \\in {\\lbrace 1,2,3,4 \\rbrace} \\rbrace}}{\\Large\\mathrm \\cup} {\\left \\lbrace (x_1, x_2, x_3, x_4) \\vert x_i=x_j=x_k \\ne x_l, \\;\\; x_l \\in C_1, \\;\\; (x_i, x_j, x_k, x_l) \\in S_4 \\right \\rbrace} \\\\\n",
    " &\\large\\cup& \\underset{\\small{\\lbrace (i,j,k,l) \\vert i \\ne j \\ne k \\ne l, \\; i,j,k,l \\in {\\lbrace 1,2,3,4 \\rbrace} \\rbrace}}{\\Large\\mathrm \\cup} {\\left \\lbrace (x_1, x_2, x_3, x_4) \\vert x_i=x_j, x_k=x_l, x_j \\ne x_k, \\;\\; x_i, x_j, x_k, x_l \\in C_1 \\right \\rbrace}\n",
    "\\end{eqnarray}$\n",
    "\n",
    "$R_4 = S_4 \\setminus \\left(\\left \\lbrace \\left(x_1, x_2, x_3, x_4 \\right) \\vert  x_1, x_2, x_3, x_4 \\in \\bar{C_1}  \\right \\rbrace  \\setminus K_{3,4} \\right)$.\n",
    "\n",
    "$\\begin{eqnarray}\n",
    "C_4^{*} = C_4 &\\large\\cup& ((K_{3,4} \\setminus C_4) \\times C_1) \\\\\n",
    " &\\large\\cup& \\underset{\\small{\\lbrace (i,j,k,l) \\vert i \\ne j \\ne k \\ne l, \\; i,j,k,l \\in {\\lbrace 1,2,3,4 \\rbrace} \\rbrace}}{\\Large\\mathrm \\cup} {\\left \\lbrace (x_1, x_2, x_3, x_4) \\vert x_i,x_j,x_k \\in C_1, x_l \\in \\bar{C_1} \\right \\rbrace} \\setminus K_{3,4} \\times C_1 \\\\\n",
    " &\\large\\cup& \\underset{\\small{\\lbrace (i,j,k,l) \\vert i \\ne j \\ne k \\ne l, \\; i,j,k,l \\in {\\lbrace 1,2,3,4 \\rbrace} \\rbrace}}{\\Large\\mathrm \\cup} {\\left \\lbrace (x_1, x_2, x_3, x_4) \\vert x_i,x_j \\in C_1 x_k, x_l \\in \\bar{C_1} \\right \\rbrace} \\times C_2^{*} \\\\\n",
    " &\\large\\cup& \\underset{\\small{\\lbrace (i,j,k,l) \\vert i \\ne j \\ne k \\ne l, \\; i,j,k,l \\in {\\lbrace 1,2,3,4 \\rbrace} \\rbrace}}{\\Large\\mathrm \\cup} {\\left \\lbrace (x_1, x_2, x_3, x_4) \\vert x_i \\in C_1 x_j, x_k, x_l \\in \\bar{C_1} \\right \\rbrace} \\setminus K_{3,4} \\times C_3^{*}\n",
    "\\end{eqnarray}$"
   ]
  },
  {
   "cell_type": "markdown",
   "metadata": {},
   "source": [
    "#### Probabilities\n",
    "\n",
    "$\\begin{eqnarray}\n",
    "P(C_4) &=& \\frac{\\left\\vert K_4 \\vphantom{\\underset{\\small{\\lbrace i \\rbrace}}{\\Large\\mathrm \\cup}} \\right\\vert}{\\vert S_4 \\vert} + \\frac{\\left\\vert \\underset{\\small{\\lbrace (i,j,k,l) \\vert i \\ne j \\ne k \\ne l, \\; i,j,k,l \\in {\\lbrace 1,2,3,4 \\rbrace} \\rbrace}}{\\Large\\mathrm \\cup} {\\left \\lbrace (x_1, x_2, x_3, x_4) \\vert x_i=x_j=x_k \\ne x_l, \\;\\; x_l \\in C_1, \\;\\; (x_i, x_j, x_k, x_l) \\in S_4 \\right \\rbrace} \\right\\vert}{\\vert S_4 \\vert} \\\\\n",
    " & & \\; + \\frac{\\left\\vert \\underset{\\small{\\lbrace (i,j,k,l) \\vert i \\ne j \\ne k \\ne l, \\; i,j,k,l \\in {\\lbrace 1,2,3,4 \\rbrace} \\rbrace}}{\\Large\\mathrm \\cup} {\\left \\lbrace (x_1, x_2, x_3, x_4) \\vert x_i=x_j, x_k=x_l, x_j \\ne x_k, \\;\\; x_i, x_j, x_k, x_l \\in C_1 \\right \\rbrace}\\right\\vert}{\\vert S_4 \\vert} \\\\\n",
    " &=& \\frac{6}{6^4} + \\frac{\\left(4 \\cdot 2 + 2 \\right) {4 \\choose 1}}{6^4} + \\frac{2 {3 \\choose 1}}{6^4} \\\\\n",
    " &=& \\frac{52}{6^4}\n",
    "\\end{eqnarray}$\n",
    "\n",
    "$\\begin{eqnarray}\n",
    "P(R_4) &=& \\frac{\\left\\vert S_4 \\vphantom{\\bar{C_1}} \\right\\vert}{\\vert S_4 \\vert} - \\frac{\\left \\vert \\left\\lbrace (x_1, x_2, x_3, x_4) \\vert  x_1, x_2, x_3, x_4 \\in \\bar{C_1} \\right \\rbrace \\setminus K_{3,4} \\right \\vert}{\\vert S_4 \\vert}\\\\\n",
    " &=& \\frac{1296\\vphantom{{4\\choose 3}}}{6^4} - \\frac{4^4-\\left(4 + 4 \\cdot 3 {4 \\choose 1}\\right)}{6^4} \\\\\n",
    " &=& \\frac{1092}{6^4}\n",
    "\\end{eqnarray}$\n",
    "\n",
    "$\\begin{eqnarray}\n",
    "P(C_4^{*}) &=& \\frac{\\left\\vert C_4 \\right\\vert}{\\vert S_4\\vert} + \\frac{\\vert K_{3,4} \\setminus C_4 \\vert}{\\vert S_4 \\vert} \\cdot P(C_1) \\\\ \n",
    " & & \\; + \\frac{\\left\\vert \\underset{\\small{\\lbrace (i,j,k,l) \\vert i \\ne j \\ne k \\ne l, \\; i,j,k,l \\in {\\lbrace 1,2,3,4 \\rbrace} \\rbrace}}{\\Large\\mathrm \\cup} {\\left \\lbrace (x_1, x_2, x_3, x_4) \\vert x_i,x_j,x_k \\in C_1, x_l \\in \\bar{C_1} \\right \\rbrace}\\setminus K_{3,4}\\right\\vert}{\\vert S_4 \\vert} \\cdot P(C_1) \\\\\n",
    " & & \\; + \\frac{\\left\\vert \\underset{\\small{\\lbrace (i,j,k,l) \\vert i \\ne j \\ne k \\ne l, \\; i,j,k,l \\in {\\lbrace 1,2,3,4 \\rbrace} \\rbrace}}{\\Large\\mathrm \\cup} {\\left \\lbrace (x_1, x_2, x_3, x_4) \\vert x_i,x_j \\in C_1, x_k, x_l \\in \\bar{C_1} \\right \\rbrace}\\right\\vert}{\\vert S_4 \\vert} \\cdot P(C_2^{*}) \\\\\n",
    " & & \\; + \\frac{\\left\\vert \\underset{\\small{\\lbrace (i,j,k,l) \\vert i \\ne j \\ne k \\ne l, \\; i,j,k,l \\in {\\lbrace 1,2,3,4 \\rbrace} \\rbrace}}{\\Large\\mathrm \\cup} {\\left \\lbrace (x_1, x_2, x_3, x_4) \\vert x_i \\in C_1, x_j,x_k, x_l \\in \\bar{C_1} \\right \\rbrace} \\setminus K_{3,4} \\right\\vert}{\\vert S_4 \\vert} \\cdot P(C_3^{*}) \\\\\n",
    " &=& \\frac{52}{6^4} + \\frac{\\left(4 \\cdot 3 + 2 \\cdot 4\\right) {4 \\choose 1} }{6^4} \\cdot \\frac{2}{6} + \\frac{2^2 \\cdot 4 {4 \\choose 1}}{6^4} \\cdot \\frac{2}{6} + \\frac{2^2 \\cdot 4^2 {4 \\choose 2}}{6^4} \\cdot \\frac{56}{6^3} + \\frac{2 \\cdot 4^2 \\cdot 3 {4 \\choose 1}}{6^4} \\cdot \\frac{1904}{6^5} \\\\\n",
    " &=& \\frac{346883}{6^8}\n",
    "\\end{eqnarray}$"
   ]
  },
  {
   "cell_type": "code",
   "execution_count": 67,
   "metadata": {},
   "outputs": [
    {
     "data": {
      "text/plain": [
       "(0.040123456790123455, 0.8425925925925926, 0.20652518194634964)"
      ]
     },
     "execution_count": 67,
     "metadata": {},
     "output_type": "execute_result"
    }
   ],
   "source": [
    "(52/6**4, 1092/6**4, 346883/6**8)"
   ]
  },
  {
   "cell_type": "markdown",
   "metadata": {},
   "source": [
    "---"
   ]
  },
  {
   "cell_type": "markdown",
   "metadata": {},
   "source": [
    "### 5 Dice\n",
    "\n",
    "#### Sets\n",
    "\n",
    "$K_5 = \\lbrace (x_1, x_2, x_3, x_4, x_5) \\vert x_1 = x_2 = x_3 = x_4 = x_5, (x_1, x_2, x_3, x_4, x_5) \\in S_5 \\rbrace$.\n",
    "\n",
    "$K_{4,5} = \\underset{\\small{\\lbrace (h,i,j,k,l) \\vert h \\ne i \\ne j \\ne k \\ne l, \\; h,i,j,k,l \\in {\\lbrace 1,2,3,4,5 \\rbrace} \\rbrace}}{\\Large\\mathrm \\cup} {\\left \\lbrace (x_1, x_2, x_3, x_4, x_5) \\vert x_h=x_i=x_j=x_k, (x_h, x_i, x_j, x_k, x_l) \\in S_5 \\right \\rbrace}$.\n",
    "\n",
    "$K_{3,5} = \\underset{\\small{\\lbrace (h,i,j,k,l) \\vert h \\ne i \\ne j \\ne k \\ne l, \\; h,i,j,k,l \\in {\\lbrace 1,2,3,4,5 \\rbrace} \\rbrace}}{\\Large\\mathrm \\cup} {\\left \\lbrace (x_1, x_2, x_3, x_4, x_5) \\vert x_h=x_i=x_j, (x_h, x_i, x_j, x_k, x_l) \\in S_5 \\right \\rbrace}$.\n",
    "\n",
    "$\\begin{eqnarray}\n",
    "C_5 = K_5 &\\large\\cup& \\underset{\\small{\\lbrace (h,i,j,k,l) \\vert h \\ne i \\ne j \\ne k \\ne l, \\; h,i,j,k,l \\in {\\lbrace 1,2,3,4,5 \\rbrace} \\rbrace}}{\\Large\\mathrm \\cup} {\\left \\lbrace (x_1, x_2, x_3, x_4, x_5) \\vert x_h=x_i=x_j=x_k \\ne x_l, \\;\\; x_l \\in C_1, \\;\\; (x_h, x_i, x_j, x_k, x_l) \\in S_5 \\right \\rbrace} \\\\\n",
    " &\\large\\cup& \\underset{\\small{\\lbrace (h,i,j,k,l) \\vert h \\ne i \\ne j \\ne k \\ne l, \\; h,i,j,k,l \\in {\\lbrace 1,2,3,4,5 \\rbrace} \\rbrace}}{\\Large\\mathrm \\cup} {\\left \\lbrace (x_1, x_2, x_3, x_4, x_5) \\vert x_h=x_i=x_j, x_j \\ne x_k, x_j \\ne x_l, \\;\\; x_k, x_l \\in C_1, \\;\\; (x_h, x_i, x_j, x_k, x_l) \\in S_5 \\right \\rbrace} \n",
    "\\end{eqnarray}$\n",
    "\n",
    "$R_5 = S_5 \\setminus \\left(\\left \\lbrace \\left(x_1, x_2, x_3, x_4, x_5 \\right) \\vert  x_1, x_2, x_3, x_4, x_5 \\in \\bar{C_1}  \\right \\rbrace  \\setminus K_{3,5} \\right)$.\n",
    "\n",
    "$\\begin{eqnarray}\n",
    "C_5^{*} = {}\n",
    "\\end{eqnarray}$"
   ]
  },
  {
   "cell_type": "markdown",
   "metadata": {},
   "source": [
    "#### Probabilities\n",
    "\n",
    "$\\begin{eqnarray}\n",
    "P(C_5) &=& \\frac{\\left\\vert K_5 \\vphantom{\\underset{\\small{\\lbrace i \\rbrace}}{\\Large\\mathrm \\cup}} \\right\\vert}{\\vert S_5 \\vert} + \\frac{\\left\\vert \\underset{\\small{\\lbrace (h,i,j,k,l) \\vert h \\ne i \\ne j \\ne k \\ne l, \\; h,i,j,k,l \\in {\\lbrace 1,2,3,4,5 \\rbrace} \\rbrace}}{\\Large\\mathrm \\cup} {\\left \\lbrace (x_1, x_2, x_3, x_4, x_5) \\vert x_h=x_i=x_j=x_k \\ne x_l, \\;\\; x_l \\in C_1, \\;\\; (x_h, x_i, x_j, x_k, x_l) \\in S_5 \\right \\rbrace} \\right\\vert}{\\vert S_5 \\vert} \\\\\n",
    " & & \\; + \\frac{\\left\\vert \\underset{\\small{\\lbrace (h,i,j,k,l) \\vert h \\ne i \\ne j \\ne k \\ne l, \\; h,i,j,k,l \\in {\\lbrace 1,2,3,4,5 \\rbrace} \\rbrace}}{\\Large\\mathrm \\cup} {\\left \\lbrace (x_1, x_2, x_3, x_4, x_5) \\vert x_h=x_i=x_j, x_j \\ne x_k, x_j \\ne x_l, \\;\\; x_k, x_l \\in C_1, \\;\\; (x_h, x_i, x_j, x_k, x_l) \\in S_5 \\right \\rbrace} \\right\\vert}{\\vert S_5 \\vert} \\\\\n",
    " &=& \\frac{6}{6^5} + \\frac{\\left(4 \\cdot 2 + 2 \\right) {5 \\choose 1}}{6^5} + \\frac{\\left(4 \\cdot 2^2 + 2 \\right) {5 \\choose 2}}{6^5} \\\\\n",
    " &=& \\frac{236}{6^5}\n",
    "\\end{eqnarray}$\n",
    "\n",
    "$\\begin{eqnarray}\n",
    "P(R_5) &=& \\frac{\\left\\vert S_5 \\vphantom{\\bar{C_1}} \\right\\vert}{\\vert S_5 \\vert} - \\frac{\\left \\vert \\left\\lbrace (x_1, x_2, x_3, x_4, x_5) \\vert  x_1, x_2, x_3, x_4, x_5 \\in \\bar{C_1} \\right \\rbrace \\setminus K_{3,5} \\right \\vert}{\\vert S_5 \\vert}\\\\\n",
    " &=& \\frac{7776\\vphantom{{5\\choose 3}}}{6^5} - \\frac{4^5-\\left(4 + 4 \\cdot 3 {5 \\choose 1} + 4 \\cdot 3^2 {5 \\choose 2} \\right)}{6^5} \\\\\n",
    " &=& \\frac{7176}{6^5}\n",
    "\\end{eqnarray}$\n",
    "\n",
    "$\\begin{eqnarray}\n",
    "P(C_5^{*}) &=& \n",
    "\\end{eqnarray}$"
   ]
  },
  {
   "cell_type": "code",
   "execution_count": null,
   "metadata": {},
   "outputs": [],
   "source": [
    "7776 - (4**5 - (4 + 4*3*5 + 4*3**2*10))"
   ]
  },
  {
   "cell_type": "markdown",
   "metadata": {},
   "source": [
    "---"
   ]
  },
  {
   "cell_type": "markdown",
   "metadata": {},
   "source": [
    "### 6 Dice\n",
    "\n",
    "Special rolls for six dice: \n",
    "- let $Pyramid$ denote the set of roll outcomes representing one 1, two 2s, and three 3s. \n",
    "- let $Straight$ denote the set of roll outcomes where each one of the six dice takes unique values in $S_1$.\n",
    "- let $Pairs$ denote the set of roll outcomes representing three unique pairs.\n",
    "\n",
    "#### Sets\n",
    "\n",
    "$K_6 = \\lbrace (x_1, x_2, x_3, x_4, x_5, x_6) \\vert x_1 = x_2 = x_3 = x_4 = x_5 = x_6, (x_1, x_2, x_3, x_4, x_5, x_6) \\in S_6 \\rbrace$.\n",
    "\n",
    "$K_{5,6} = \\underset{\\small{\\lbrace (g,h,i,j,k,l) \\vert g \\ne h \\ne i \\ne j \\ne k \\ne l, \\; g,h,i,j,k,l \\in {\\lbrace 1,2,3,4,5,6 \\rbrace} \\rbrace}}{\\Large\\mathrm \\cup} {\\left \\lbrace (x_1, x_2, x_3, x_4, x_5, x_6) \\vert x_g=x_h=x_i=x_j=x_k, (x_g, x_h, x_i, x_j, x_k, x_l) \\in S_6 \\right \\rbrace}$.\n",
    "\n",
    "$K_{4,6} = \\underset{\\small{\\lbrace (g,h,i,j,k,l) \\vert g \\ne h \\ne i \\ne j \\ne k \\ne l, \\; g,h,i,j,k,l \\in {\\lbrace 1,2,3,4,5,6 \\rbrace} \\rbrace}}{\\Large\\mathrm \\cup} {\\left \\lbrace (x_1, x_2, x_3, x_4, x_5, x_6) \\vert x_g=x_h=x_i=x_j, (x_g,x_h, x_i, x_j, x_k, x_l) \\in S_6 \\right \\rbrace}$.\n",
    "\n",
    "$K_{3,6} = \\underset{\\small{\\lbrace (g,h,i,j,k,l) \\vert g \\ne h \\ne i \\ne j \\ne k \\ne l, \\; g,h,i,j,k,l \\in {\\lbrace 1,2,3,4,5,6 \\rbrace} \\rbrace}}{\\Large\\mathrm \\cup} {\\left \\lbrace (x_1, x_2, x_3, x_4, x_5, x_6) \\vert x_g=x_h=x_i, (x_g,x_h, x_i, x_j, x_k, x_l) \\in S_6 \\right \\rbrace}$.\n",
    "\n",
    "$\\begin{eqnarray}\n",
    "C_6 = K_6 \\, &\\large\\cup& \\, Pyramid \\, \\large{\\cup} \\, \\normalsize Straight \\, \\large{\\cup} \\, \\normalsize  Pairs \\\\\n",
    "&\\large\\cup& \\underset{\\small{\\lbrace (g,h,i,j,k,l) \\vert g \\ne h \\ne i \\ne j \\ne k \\ne l, \\; g,h,i,j,k,l \\in {\\lbrace 1,2,3,4,5,6 \\rbrace} \\rbrace}}{\\Large\\mathrm \\cup} {\\left \\lbrace (x_1, x_2, x_3, x_4, x_5, x_6) \\vert x_g=x_h=x_i=x_j=x_k \\ne x_l, \\;\\; x_l \\in C_1, \\;\\; (x_g, x_h, x_i, x_j, x_k, x_l) \\in S_6 \\right \\rbrace} \\\\\n",
    " &\\large\\cup& \\underset{\\small{\\lbrace (g,h,i,j,k,l) \\vert g \\ne h \\ne i \\ne j \\ne k \\ne l, \\; g,h,i,j,k,l \\in {\\lbrace 1,2,3,4,5,6 \\rbrace} \\rbrace}}{\\Large\\mathrm \\cup} {\\left \\lbrace (x_1, x_2, x_3, x_4, x_5, x_6) \\vert x_g=x_h=x_i=x_j, x_j \\ne x_k, x_j \\ne x_l, \\;\\; x_k, x_l \\in C_1, \\;\\; (x_g, x_h, x_i, x_j, x_k, x_l) \\in S_6 \\right \\rbrace} \\\\\n",
    " &\\large\\cup& \\underset{\\small{\\lbrace (g,h,i,j,k,l) \\vert g \\ne h \\ne i \\ne j \\ne k \\ne l, \\; g,h,i,j,k,l \\in {\\lbrace 1,2,3,4,5,6 \\rbrace} \\rbrace}}{\\Large\\mathrm \\cup} {\\left \\lbrace (x_1, x_2, x_3, x_4, x_5, x_6) \\vert x_g=x_h=x_i, x_i \\ne x_j, x_i \\ne x_k, x_i \\ne x_l, \\;\\; x_k, x_l \\in C_1, \\;\\; (x_g, x_h, x_i, x_j, x_k, x_l) \\in S_6 \\right \\rbrace} \\\\\n",
    " &\\large\\cup& \\underset{\\small{\\lbrace (g,h,i,j,k,l) \\vert g \\ne h \\ne i \\ne j \\ne k \\ne l, \\; g,h,i,j,k,l \\in {\\lbrace 1,2,3,4,5,6 \\rbrace} \\rbrace}}{\\Large\\mathrm \\cup} {\\left \\lbrace (x_1, x_2, x_3, x_4, x_5, x_6) \\vert x_g=x_h=x_i, x_j=x_k=x_l, x_i \\ne x_j, \\;\\; (x_g, x_h, x_i, x_j, x_k, x_l) \\in S_6 \\right \\rbrace}\n",
    "\\end{eqnarray}$\n",
    "\n",
    "$R_6 = S_6 \\setminus \\left(\\left(\\left \\lbrace \\left(x_1, x_2, x_3, x_4, x_5, x_6 \\right) \\vert  x_1, x_2, x_3, x_4, x_5, x_6 \\in \\bar{C_1}  \\right \\rbrace  \\setminus K_{3,6} \\right) \\setminus Pairs \\right)$.\n",
    "\n",
    "$\\begin{eqnarray}\n",
    "C_5^{*} = {}\n",
    "\\end{eqnarray}$"
   ]
  },
  {
   "cell_type": "markdown",
   "metadata": {},
   "source": [
    "#### Probabilities"
   ]
  }
 ],
 "metadata": {
  "kernelspec": {
   "display_name": "Python 3",
   "language": "python",
   "name": "python3"
  },
  "language_info": {
   "codemirror_mode": {
    "name": "ipython",
    "version": 3
   },
   "file_extension": ".py",
   "mimetype": "text/x-python",
   "name": "python",
   "nbconvert_exporter": "python",
   "pygments_lexer": "ipython3",
   "version": "3.6.10"
  }
 },
 "nbformat": 4,
 "nbformat_minor": 4
}
